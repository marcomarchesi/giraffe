{
  "nbformat": 4,
  "nbformat_minor": 0,
  "metadata": {
    "colab": {
      "name": "gneural_rt.ipynb",
      "provenance": [],
      "collapsed_sections": []
    },
    "kernelspec": {
      "name": "python3",
      "display_name": "Python 3"
    },
    "accelerator": "GPU"
  },
  "cells": [
    {
      "cell_type": "code",
      "metadata": {
        "id": "iEqaAyV4iCqu",
        "colab_type": "code",
        "colab": {
          "base_uri": "https://localhost:8080/",
          "height": 122
        },
        "outputId": "f95d3b76-3112-4e14-a0a8-387af39558a0"
      },
      "source": [
        "from google.colab import drive\n",
        "drive.mount('/content/drive')"
      ],
      "execution_count": 3,
      "outputs": [
        {
          "output_type": "stream",
          "text": [
            "Go to this URL in a browser: https://accounts.google.com/o/oauth2/auth?client_id=947318989803-6bn6qk8qdgf4n4g3pfee6491hc0brc4i.apps.googleusercontent.com&redirect_uri=urn%3aietf%3awg%3aoauth%3a2.0%3aoob&response_type=code&scope=email%20https%3a%2f%2fwww.googleapis.com%2fauth%2fdocs.test%20https%3a%2f%2fwww.googleapis.com%2fauth%2fdrive%20https%3a%2f%2fwww.googleapis.com%2fauth%2fdrive.photos.readonly%20https%3a%2f%2fwww.googleapis.com%2fauth%2fpeopleapi.readonly\n",
            "\n",
            "Enter your authorization code:\n",
            "··········\n",
            "Mounted at /content/drive\n"
          ],
          "name": "stdout"
        }
      ]
    },
    {
      "cell_type": "code",
      "metadata": {
        "id": "Cv3XwsZoifiu",
        "colab_type": "code",
        "colab": {
          "base_uri": "https://localhost:8080/",
          "height": 51
        },
        "outputId": "330b94a6-807b-4c5d-ba8a-63f2d41c4b3e"
      },
      "source": [
        "!ls /content/drive/My\\ Drive/giraffe\n",
        "!cp /content/drive/My\\ Drive/giraffe/data.zip data.zip\n",
        "!unzip data.zip\n",
        "!ls\n",
        "dataset_path = '/content/drive/My Drive/giraffe/dataset_20000_128.hdf5'"
      ],
      "execution_count": 4,
      "outputs": [
        {
          "output_type": "stream",
          "text": [
            "dataset_10000.hdf5  dataset_20000_128.hdf5  train\n",
            "dataset_1000.hdf5   dataset_50000.hdf5\n"
          ],
          "name": "stdout"
        }
      ]
    },
    {
      "cell_type": "code",
      "metadata": {
        "id": "csQy25FJjWVf",
        "colab_type": "code",
        "colab": {}
      },
      "source": [
        "import torch\n",
        "from torch import nn\n",
        "from torch.utils.data import random_split, Dataset\n",
        "from torchvision import transforms\n",
        "from torch.autograd import Variable\n",
        "import torchvision\n",
        "import numpy as np\n",
        "import h5py\n",
        "from PIL import Image"
      ],
      "execution_count": 0,
      "outputs": []
    },
    {
      "cell_type": "code",
      "metadata": {
        "id": "3kbL5ImbjbcU",
        "colab_type": "code",
        "colab": {}
      },
      "source": [
        "class RayTracingDecoder(nn.Module):\n",
        "    def __init__(self):\n",
        "        super(RayTracingDecoder, self).__init__()\n",
        "        self.decoder = nn.Sequential(\n",
        "            nn.Linear(29, 64),\n",
        "            nn.ReLU(True),\n",
        "            nn.Linear(64, 128),\n",
        "            nn.ReLU(True),\n",
        "            nn.Linear(128, 256),\n",
        "            nn.ReLU(True),\n",
        "            nn.Linear(256, 256 * 256 * 3),\n",
        "            nn.Tanh()\n",
        "        )\n",
        "    def forward(self, x):\n",
        "        x = self.decoder(x)\n",
        "        return x"
      ],
      "execution_count": 0,
      "outputs": []
    },
    {
      "cell_type": "code",
      "metadata": {
        "id": "4aldCvh75WY6",
        "colab_type": "code",
        "colab": {}
      },
      "source": [
        "class autoencoder(nn.Module):\n",
        "    def __init__(self):\n",
        "        super(autoencoder, self).__init__()\n",
        "        self.encoder = nn.Sequential(\n",
        "            nn.Conv2d(3, 32, 3, stride=3, padding=1),  # b, 32, 10, 10\n",
        "            nn.ReLU(True),\n",
        "            nn.MaxPool2d(2, stride=2),  # b, 32, 5, 5\n",
        "            nn.Conv2d(32, 16, 3, stride=2, padding=1),  # b, 16, 3, 3\n",
        "            nn.ReLU(True),\n",
        "            nn.MaxPool2d(2, stride=1)  # b, 16, 2, 2\n",
        "        )\n",
        "        self.decoder = nn.Sequential(\n",
        "            nn.ConvTranspose2d(16, 16, 3, stride=2),  # b, 16, 5, 5\n",
        "            nn.ReLU(True),\n",
        "            nn.ConvTranspose2d(16, 8, 5, stride=3, padding=1),  # b, 8, 15, 15\n",
        "            nn.ReLU(True),\n",
        "            nn.ConvTranspose2d(8, 3, 6, stride=2, padding=1),  # b, 1, 28, 28\n",
        "            nn.Tanh()\n",
        "        )\n",
        "\n",
        "    def forward(self, x):\n",
        "        x = self.encoder(x)\n",
        "        x = self.decoder(x)\n",
        "        return x"
      ],
      "execution_count": 0,
      "outputs": []
    },
    {
      "cell_type": "code",
      "metadata": {
        "id": "Quo-RrRycTIh",
        "colab_type": "code",
        "colab": {}
      },
      "source": [
        "class AE(nn.Module):\n",
        "    def __init__(self, **kwargs):\n",
        "        super().__init__()\n",
        "        self.encoder_hidden_layer = nn.Linear(\n",
        "            in_features=kwargs[\"input_shape\"], out_features=128\n",
        "        )\n",
        "        self.encoder_output_layer = nn.Linear(\n",
        "            in_features=128, out_features=128\n",
        "        )\n",
        "        self.decoder_hidden_layer = nn.Linear(\n",
        "            in_features=128, out_features=128\n",
        "        )\n",
        "        self.decoder_output_layer = nn.Linear(\n",
        "            in_features=128, out_features=kwargs[\"input_shape\"]\n",
        "        )\n",
        "\n",
        "    def forward(self, features):\n",
        "        activation = self.encoder_hidden_layer(features)\n",
        "        activation = torch.relu(activation)\n",
        "        code = self.encoder_output_layer(activation)\n",
        "        code = torch.relu(code)\n",
        "        activation = self.decoder_hidden_layer(code)\n",
        "        activation = torch.relu(activation)\n",
        "        activation = self.decoder_output_layer(activation)\n",
        "        reconstructed = torch.relu(activation)\n",
        "        return reconstructed"
      ],
      "execution_count": 0,
      "outputs": []
    },
    {
      "cell_type": "code",
      "metadata": {
        "id": "fbMdPG0xjQXY",
        "colab_type": "code",
        "colab": {}
      },
      "source": [
        "def load_dataset(path):\n",
        "    with h5py.File(path, \"r\") as f:\n",
        "        rgb = np.array(f[\"renders\"])\n",
        "        scenes = np.array(f[\"scenes\"]).astype(np.uint8)\n",
        "        # print(scenes[0])\n",
        "        for index, img in enumerate(rgb):\n",
        "            im = Image.fromarray(img)\n",
        "            if index == 0:\n",
        "              # im.show()\n",
        "              im.save('example.png')\n",
        "        return scenes, rgb\n",
        "\n",
        "class RayTracingDataset(Dataset):\n",
        "\n",
        "    def __init__(self, scenes, renders, transform=None):\n",
        "        '''\n",
        "        Args:\n",
        "            scenes (Numpy array)\n",
        "            renders (Numpy array)\n",
        "            transform (callable, optional)\n",
        "        '''\n",
        "        self.scenes = scenes\n",
        "        self.renders = renders\n",
        "        self.transform = transform\n",
        "    \n",
        "    def __len__(self):\n",
        "        return len(self.scenes)\n",
        "    \n",
        "    def __getitem__(self, idx):\n",
        "        if torch.is_tensor(idx):\n",
        "            idx = idx.tolist()\n",
        "        \n",
        "        sample = {'scene': self.scenes[idx],\n",
        "                  'render': self.renders[idx]}\n",
        "\n",
        "        return sample\n"
      ],
      "execution_count": 0,
      "outputs": []
    },
    {
      "cell_type": "code",
      "metadata": {
        "id": "ALk5bQAxiyhA",
        "colab_type": "code",
        "colab": {
          "base_uri": "https://localhost:8080/",
          "height": 34
        },
        "outputId": "065ec71c-b9de-42e6-b155-282d15304b66"
      },
      "source": [
        "split_factor = 0.8\n",
        "\n",
        "# load the dataset\n",
        "scenes, rgb = load_dataset(dataset_path)\n",
        "\n",
        "img_transform = transforms.Compose([\n",
        "    transforms.ToTensor(),\n",
        "    transforms.Normalize([0.5], [0.5])\n",
        "])\n",
        "\n",
        "rt_dataset = RayTracingDataset(scenes=scenes, renders=rgb, transform=img_transform)\n",
        "print(\"Dataset length is {}.\".format(len(rt_dataset)))\n",
        "\n",
        "dataset_split_size = [int(len(rt_dataset) * split_factor), \n",
        "                        len(rt_dataset) - int(len(rt_dataset) * split_factor)]\n",
        "\n",
        "\n",
        "\n",
        "# split the dataset into train and test\n",
        "train_dataset, test_dataset = random_split(rt_dataset, dataset_split_size)\n",
        "\n",
        "b_size = 128\n",
        "train_loader = torch.utils.data.DataLoader(\n",
        "    train_dataset, batch_size=b_size, shuffle=True, num_workers=4,\n",
        ")\n",
        "test_loader = torch.utils.data.DataLoader(\n",
        "    test_dataset, batch_size=b_size, shuffle=False, num_workers=4\n",
        ")\n",
        "\n",
        "\n",
        "num_epochs = 200\n",
        "learning_rate = 1e-3\n",
        "device = torch.device('cuda' if torch.cuda.is_available() else 'cpu')\n",
        "# device = 'cpu'\n",
        "\n",
        "# model = RayTracingDecoder().float()\n",
        "model = AE(input_shape=49152).cuda()\n",
        "# model = autoencoder().cuda()\n",
        "# model.cuda()\n",
        "criterion = nn.MSELoss()\n",
        "optimizer = torch.optim.Adam(\n",
        "    model.parameters(), lr=learning_rate, \n",
        "    weight_decay=1e-5\n",
        ")\n"
      ],
      "execution_count": 57,
      "outputs": [
        {
          "output_type": "stream",
          "text": [
            "Dataset length is 20000.\n"
          ],
          "name": "stdout"
        }
      ]
    },
    {
      "cell_type": "code",
      "metadata": {
        "id": "NBSEE9PznI01",
        "colab_type": "code",
        "colab": {
          "base_uri": "https://localhost:8080/",
          "height": 605
        },
        "outputId": "479c8a79-996c-4c37-a398-59bd833110cc"
      },
      "source": [
        "def to_img(x):\n",
        "    x = 0.5 * (x + 1)\n",
        "    x = x.clamp(0, 1)\n",
        "    x = x.view(x.size(0), 3, 128, 128)\n",
        "    return x\n",
        "\n",
        "from torchvision.utils import save_image\n",
        "\n",
        "losses = []\n",
        "for epoch in range(num_epochs):\n",
        "    for data in train_loader:\n",
        "\n",
        "        render = data['render'].float()\n",
        "        scene = data['scene'].float()\n",
        "\n",
        "        # render = render.view(-1, 3, 128, 128)\n",
        "\n",
        "        render = render.view(render.size(0), -1)\n",
        "\n",
        "        render = Variable(render).to(device)\n",
        "        scene = Variable(scene).to(device)\n",
        "\n",
        "        # print(render.shape)\n",
        "\n",
        "        output = model(render)\n",
        "\n",
        "        # print(output.shape)\n",
        "\n",
        "        loss = criterion(output, render)\n",
        "        losses.append(loss)\n",
        "\n",
        "        optimizer.zero_grad()\n",
        "        loss.backward()\n",
        "        optimizer.step()\n",
        "    \n",
        "    \n",
        "    if epoch % 10 == 0:\n",
        "        print('epoch [{}/{}], loss:{:.4f}'.format(epoch+1, num_epochs, loss.data))\n",
        "        pic = to_img(output.cpu().data)\n",
        "        save_image(pic, '/content/drive/My Drive/giraffe/train/{}.png'.format(str(epoch+1)))\n",
        "import matplotlib.pyplot as plt\n",
        "\n",
        "plt.plot(losses)\n",
        "plt.show()\n",
        "torch.save(model.state_dict(), '/content/drive/My Drive/giraffe/train/checkpoint.pth')"
      ],
      "execution_count": 58,
      "outputs": [
        {
          "output_type": "stream",
          "text": [
            "epoch [1/200], loss:2534.5454\n",
            "epoch [11/200], loss:2214.4509\n",
            "epoch [21/200], loss:2354.6470\n",
            "epoch [31/200], loss:2198.2615\n",
            "epoch [41/200], loss:2147.3257\n",
            "epoch [51/200], loss:2107.2578\n",
            "epoch [61/200], loss:2124.6150\n",
            "epoch [71/200], loss:2123.4207\n",
            "epoch [81/200], loss:2095.4873\n",
            "epoch [91/200], loss:2286.8208\n",
            "epoch [101/200], loss:2100.7773\n",
            "epoch [111/200], loss:2041.2566\n",
            "epoch [121/200], loss:2217.5195\n",
            "epoch [131/200], loss:2217.4302\n",
            "epoch [141/200], loss:2196.8154\n",
            "epoch [151/200], loss:2250.8345\n",
            "epoch [161/200], loss:2259.3433\n",
            "epoch [171/200], loss:2156.7275\n",
            "epoch [181/200], loss:2311.9907\n",
            "epoch [191/200], loss:2223.3152\n"
          ],
          "name": "stdout"
        },
        {
          "output_type": "display_data",
          "data": {
            "image/png": "[encoded data removed]",
            "text/plain": [
              "<Figure size 432x288 with 1 Axes>"
            ]
          },
          "metadata": {
            "tags": [],
            "needs_background": "light"
          }
        }
      ]
    }
  ]
}