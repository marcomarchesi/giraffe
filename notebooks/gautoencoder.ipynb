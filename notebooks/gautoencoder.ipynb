{
  "nbformat": 4,
  "nbformat_minor": 0,
  "metadata": {
    "colab": {
      "name": "gautoencoder.ipynb",
      "provenance": [],
      "collapsed_sections": [],
      "toc_visible": true
    },
    "kernelspec": {
      "name": "python3",
      "display_name": "Python 3"
    },
    "accelerator": "GPU"
  },
  "cells": [
    {
      "cell_type": "code",
      "metadata": {
        "id": "iEqaAyV4iCqu",
        "colab_type": "code",
        "outputId": "2ce2587a-08ff-4c6d-8764-d2ba49122433",
        "colab": {
          "base_uri": "https://localhost:8080/",
          "height": 54
        }
      },
      "source": [
        "from google.colab import drive\n",
        "drive.mount('/content/drive')"
      ],
      "execution_count": 9,
      "outputs": [
        {
          "output_type": "stream",
          "text": [
            "Drive already mounted at /content/drive; to attempt to forcibly remount, call drive.mount(\"/content/drive\", force_remount=True).\n"
          ],
          "name": "stdout"
        }
      ]
    },
    {
      "cell_type": "code",
      "metadata": {
        "id": "Cv3XwsZoifiu",
        "colab_type": "code",
        "colab": {
          "base_uri": "https://localhost:8080/",
          "height": 34
        },
        "outputId": "454dac77-94b6-4fd7-8549-fe9a754cf6cc"
      },
      "source": [
        "!cp /content/drive/My\\ Drive/giraffe/root_no_reflection.zip root_no_reflection.zip\n",
        "!unzip root_no_reflection.zip > ziplog.txt\n"
      ],
      "execution_count": 10,
      "outputs": [
        {
          "output_type": "stream",
          "text": [
            "replace root/.DS_Store? [y]es, [n]o, [A]ll, [N]one, [r]ename: N\n"
          ],
          "name": "stdout"
        }
      ]
    },
    {
      "cell_type": "code",
      "metadata": {
        "id": "csQy25FJjWVf",
        "colab_type": "code",
        "colab": {}
      },
      "source": [
        "import torch\n",
        "from torch import nn\n",
        "from torch.utils.data import random_split, Dataset, DataLoader\n",
        "from torchvision import transforms\n",
        "from torch.autograd import Variable\n",
        "import torchvision\n",
        "from torchvision.datasets import ImageFolder\n",
        "import numpy as np\n",
        "from PIL import Image"
      ],
      "execution_count": 0,
      "outputs": []
    },
    {
      "cell_type": "code",
      "metadata": {
        "id": "4aldCvh75WY6",
        "colab_type": "code",
        "colab": {}
      },
      "source": [
        "class autoencoder(nn.Module):\n",
        "    def __init__(self):\n",
        "        super(autoencoder, self).__init__()\n",
        "        self.encoder = nn.Sequential(\n",
        "            nn.Conv2d(3, 16, 3, stride=3, padding=1),  # b, 16, 10, 10\n",
        "            nn.ReLU(True),\n",
        "            nn.MaxPool2d(2, stride=2),  # b, 16, 5, 5\n",
        "            nn.Conv2d(16, 8, 3, stride=2, padding=1),  # b, 8, 3, 3\n",
        "            nn.ReLU(True),\n",
        "            nn.MaxPool2d(2, stride=1)  # b, 8, 2, 2\n",
        "        )\n",
        "        self.decoder = nn.Sequential(\n",
        "            nn.ConvTranspose2d(8, 16, 3, stride=2),  # b, 16, 5, 5\n",
        "            nn.ReLU(True),\n",
        "            nn.ConvTranspose2d(16, 8, 5, stride=3, padding=1),  # b, 8, 15, 15\n",
        "            nn.ReLU(True),\n",
        "            nn.ConvTranspose2d(8, 3, 6, stride=2, padding=1),  # b, 1, 28, 28\n",
        "            nn.Tanh()\n",
        "        )\n",
        "\n",
        "    def forward(self, x):\n",
        "        x = self.encoder(x)\n",
        "        x = self.decoder(x)\n",
        "        return x"
      ],
      "execution_count": 0,
      "outputs": []
    },
    {
      "cell_type": "code",
      "metadata": {
        "id": "3OwiJ1-yXceb",
        "colab_type": "code",
        "colab": {}
      },
      "source": [
        "import os\n",
        "\n",
        "transform = transforms.Compose([\n",
        "    # you can add other transformations in this list\n",
        "    transforms.ToTensor(),\n",
        "    transforms.Normalize((0.5, 0.5, 0.5), (0.5, 0.5, 0.5)),\n",
        "])"
      ],
      "execution_count": 0,
      "outputs": []
    },
    {
      "cell_type": "code",
      "metadata": {
        "id": "ALk5bQAxiyhA",
        "colab_type": "code",
        "colab": {}
      },
      "source": [
        "b_size = 128\n",
        "img_size = 128\n",
        "\n",
        "train_dataset = ImageFolder('root_no_reflection', transform=transform)\n",
        "train_loader = torch.utils.data.DataLoader(\n",
        "    train_dataset, batch_size=b_size, shuffle=True, num_workers=4,\n",
        ")\n",
        "\n",
        "num_epochs = 500\n",
        "learning_rate = 1e-3\n",
        "device = torch.device('cuda' if torch.cuda.is_available() else 'cpu')\n",
        "\n",
        "model = autoencoder()\n",
        "model.to(device)\n",
        "criterion = nn.MSELoss()\n",
        "optimizer = torch.optim.Adam(\n",
        "    model.parameters(), lr=learning_rate, \n",
        "    weight_decay=1e-5\n",
        ")\n"
      ],
      "execution_count": 0,
      "outputs": []
    },
    {
      "cell_type": "code",
      "metadata": {
        "id": "NBSEE9PznI01",
        "colab_type": "code",
        "colab": {
          "base_uri": "https://localhost:8080/",
          "height": 1000
        },
        "outputId": "bc989f16-fd30-40ff-abb6-62fd2d3ba676"
      },
      "source": [
        "def to_img(x):\n",
        "    x = 0.5 * (x + 1)\n",
        "    x = x.clamp(0, 1)\n",
        "    x = x.view(x.size(0), 3, img_size, img_size)\n",
        "    return x\n",
        "\n",
        "from torchvision.utils import save_image\n",
        "\n",
        "# model.load_state_dict(torch.load('/content/drive/My Drive/giraffe/train/checkpoint.pth'))\n",
        "\n",
        "losses = []\n",
        "for epoch in range(num_epochs):\n",
        "    for data, _ in train_loader:\n",
        "\n",
        "        data = data.view(data.size(0), 3, img_size, img_size)\n",
        "        data = Variable(data).to(device)\n",
        "\n",
        "        optimizer.zero_grad()\n",
        "\n",
        "        output = model(data)\n",
        "\n",
        "        loss = criterion(output, data)\n",
        "        losses.append(loss)\n",
        "\n",
        "        loss.backward()\n",
        "        optimizer.step()\n",
        "    \n",
        "    if epoch % 10 == 0:\n",
        "        print('epoch [{}/{}], loss:{:.4f}'.format(epoch+1, num_epochs, loss.data))\n",
        "        pic = to_img(output.cpu().data)\n",
        "        save_image(pic, '/content/drive/My Drive/giraffe/train/{}.png'.format(str(epoch+1)))\n",
        "import matplotlib.pyplot as plt\n",
        "\n",
        "plt.plot(losses)\n",
        "plt.show()\n",
        "torch.save(model.state_dict(), '/content/drive/My Drive/giraffe/train/checkpoint.pth')"
      ],
      "execution_count": 15,
      "outputs": [
        {
          "output_type": "stream",
          "text": [
            "epoch [1/500], loss:0.2082\n",
            "epoch [11/500], loss:0.0707\n",
            "epoch [21/500], loss:0.0489\n",
            "epoch [31/500], loss:0.0514\n",
            "epoch [41/500], loss:0.0486\n",
            "epoch [51/500], loss:0.0457\n",
            "epoch [61/500], loss:0.0390\n",
            "epoch [71/500], loss:0.0412\n",
            "epoch [81/500], loss:0.0397\n",
            "epoch [91/500], loss:0.0404\n",
            "epoch [101/500], loss:0.0409\n",
            "epoch [111/500], loss:0.0475\n",
            "epoch [121/500], loss:0.0384\n",
            "epoch [131/500], loss:0.0370\n",
            "epoch [141/500], loss:0.0363\n",
            "epoch [151/500], loss:0.0425\n",
            "epoch [161/500], loss:0.0354\n",
            "epoch [171/500], loss:0.0442\n",
            "epoch [181/500], loss:0.0326\n",
            "epoch [191/500], loss:0.0373\n",
            "epoch [201/500], loss:0.0349\n",
            "epoch [211/500], loss:0.0340\n",
            "epoch [221/500], loss:0.0374\n",
            "epoch [231/500], loss:0.0428\n",
            "epoch [241/500], loss:0.0383\n",
            "epoch [251/500], loss:0.0386\n",
            "epoch [261/500], loss:0.0384\n",
            "epoch [271/500], loss:0.0330\n",
            "epoch [281/500], loss:0.0371\n",
            "epoch [291/500], loss:0.0388\n",
            "epoch [301/500], loss:0.0414\n",
            "epoch [311/500], loss:0.0398\n",
            "epoch [321/500], loss:0.0428\n",
            "epoch [331/500], loss:0.0384\n",
            "epoch [341/500], loss:0.0338\n",
            "epoch [351/500], loss:0.0336\n",
            "epoch [361/500], loss:0.0303\n",
            "epoch [371/500], loss:0.0366\n",
            "epoch [381/500], loss:0.0378\n",
            "epoch [391/500], loss:0.0356\n",
            "epoch [401/500], loss:0.0421\n",
            "epoch [411/500], loss:0.0324\n",
            "epoch [421/500], loss:0.0360\n",
            "epoch [431/500], loss:0.0317\n",
            "epoch [441/500], loss:0.0363\n",
            "epoch [451/500], loss:0.0395\n",
            "epoch [461/500], loss:0.0421\n",
            "epoch [471/500], loss:0.0329\n",
            "epoch [481/500], loss:0.0325\n",
            "epoch [491/500], loss:0.0357\n"
          ],
          "name": "stdout"
        },
        {
          "output_type": "display_data",
          "data": {
            "image/png": "[encoded data removed]",
            "text/plain": [
              "<Figure size 432x288 with 1 Axes>"
            ]
          },
          "metadata": {
            "tags": [],
            "needs_background": "light"
          }
        }
      ]
    }
  ]
}